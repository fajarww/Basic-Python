{
 "cells": [
  {
   "cell_type": "markdown",
   "metadata": {},
   "source": [
    "### Soal 1"
   ]
  },
  {
   "cell_type": "code",
   "execution_count": 33,
   "metadata": {},
   "outputs": [
    {
     "name": "stdout",
     "output_type": "stream",
     "text": [
      "<class 'str'>\n"
     ]
    }
   ],
   "source": [
    "nama = str(input('Masukan nama:'))\n",
    "print(type(nama))"
   ]
  },
  {
   "cell_type": "code",
   "execution_count": 34,
   "metadata": {},
   "outputs": [
    {
     "name": "stdout",
     "output_type": "stream",
     "text": [
      "<class 'int'>\n"
     ]
    }
   ],
   "source": [
    "umur = int(input('Masukan umur:'))\n",
    "print(type(umur))"
   ]
  },
  {
   "cell_type": "code",
   "execution_count": 35,
   "metadata": {},
   "outputs": [
    {
     "name": "stdout",
     "output_type": "stream",
     "text": [
      "<class 'int'>\n"
     ]
    }
   ],
   "source": [
    "tinggi = int(input('Masukkan tinggi badan:'))\n",
    "print(type(tinggi))"
   ]
  },
  {
   "cell_type": "code",
   "execution_count": 36,
   "metadata": {},
   "outputs": [
    {
     "name": "stdout",
     "output_type": "stream",
     "text": [
      "nama saya adalah Fajar Witama Wijaya, umur saya 29 tahun dan tinggi saya 169 cm\n"
     ]
    }
   ],
   "source": [
    "print('nama saya adalah '+ nama+', umur saya '+str(umur)+' tahun dan tinggi saya '+str(tinggi)+' cm')"
   ]
  },
  {
   "cell_type": "markdown",
   "metadata": {},
   "source": [
    "### Soal 2"
   ]
  },
  {
   "cell_type": "code",
   "execution_count": 37,
   "metadata": {},
   "outputs": [
    {
     "name": "stdout",
     "output_type": "stream",
     "text": [
      "<class 'int'>\n"
     ]
    }
   ],
   "source": [
    "jari2 = int(input('Masukkan jari-jari lingkaran :'))\n",
    "print(type(jari2))"
   ]
  },
  {
   "cell_type": "code",
   "execution_count": 38,
   "metadata": {},
   "outputs": [
    {
     "name": "stdout",
     "output_type": "stream",
     "text": [
      "Luas lingkaran dengan jari-jari 10cm adalah 31.428571428571427cm²\n"
     ]
    }
   ],
   "source": [
    "luas = jari2 * 22/7\n",
    "print('Luas lingkaran dengan jari-jari ' + str(jari2)+ 'cm adalah ' + str(luas) +'cm\\u00b2')"
   ]
  },
  {
   "cell_type": "markdown",
   "metadata": {},
   "source": [
    "### Soal 3"
   ]
  },
  {
   "cell_type": "code",
   "execution_count": 39,
   "metadata": {},
   "outputs": [
    {
     "name": "stdout",
     "output_type": "stream",
     "text": [
      "<class 'int'>\n"
     ]
    }
   ],
   "source": [
    "teori = int(input('Masukkan nilai ujian teori: '))\n",
    "print(type(teori))"
   ]
  },
  {
   "cell_type": "code",
   "execution_count": 40,
   "metadata": {},
   "outputs": [
    {
     "name": "stdout",
     "output_type": "stream",
     "text": [
      "<class 'int'>\n"
     ]
    }
   ],
   "source": [
    "praktek = int(input('Masukkan nilai ujian praktek: '))\n",
    "print(type(praktek))"
   ]
  },
  {
   "cell_type": "code",
   "execution_count": 42,
   "metadata": {},
   "outputs": [
    {
     "name": "stdout",
     "output_type": "stream",
     "text": [
      "Selamat, Anda Lulus!\n"
     ]
    }
   ],
   "source": [
    "if teori >= 70 :\n",
    "    if praktek >= 70:\n",
    "        print('Selamat, Anda Lulus!')\n",
    "    else :\n",
    "        print('Anda harus mengulang ujian praktek')\n",
    "elif teori <70 :\n",
    "    if praktek >= 70 :\n",
    "        print('Anda harus mengulang ujian teori')\n",
    "    else :\n",
    "        print('Anda harus mengulang ujian teori dan praktek')  "
   ]
  }
 ],
 "metadata": {
  "kernelspec": {
   "display_name": "Python 3.8.8 ('base')",
   "language": "python",
   "name": "python3"
  },
  "language_info": {
   "codemirror_mode": {
    "name": "ipython",
    "version": 3
   },
   "file_extension": ".py",
   "mimetype": "text/x-python",
   "name": "python",
   "nbconvert_exporter": "python",
   "pygments_lexer": "ipython3",
   "version": "3.8.8"
  },
  "orig_nbformat": 4,
  "vscode": {
   "interpreter": {
    "hash": "769b21c267fd802c48e8d7bc66505b07448a18b89720a89adae5faf4923f59cd"
   }
  }
 },
 "nbformat": 4,
 "nbformat_minor": 2
}
